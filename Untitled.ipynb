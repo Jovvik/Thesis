{
 "cells": [
  {
   "cell_type": "code",
   "execution_count": 8,
   "metadata": {},
   "outputs": [],
   "source": [
    "import numpy as np\n",
    "import matplotlib.pyplot as plt\n",
    "import pandas as pd\n",
    "import os\n",
    "import pywt\n",
    "\n",
    "#Load dataset\n",
    "training_data = []\n",
    "USERS = [\"U01\", \"U02\", \"U03\", \"U04\", \"U05\", \"U06\", \"U07\", \"U08\"]\n",
    "GESTURES = [\"01\", \"02\", \"03\", \"04\", \"05\", \"06\", \"07\", \"08\", \"09\", \"10\", \"11\", \"12\", \"13\", \"14\", \"15\", \"16\", \"17\", \"18\", \"19\", \"20\"]\n",
    "for user in USERS:\n",
    "    user_path = os.path.join(\"gestures-dataset\", user)\n",
    "    for gesture in GESTURES:\n",
    "        class_num = GESTURES.index(gesture)\n",
    "        path = os.path.join(user_path, gesture)\n",
    "        for sequence in os.listdir(path):\n",
    "            sequence_array = pd.read_csv(os.path.join(path, sequence), sep=\" \", header=None, usecols=[3, 4, 5])\n",
    "\n",
    "            x = np.concatenate((pywt.wavedec(sequence_array.iloc[:,0], 'db1')))\n",
    "            y = np.concatenate((pywt.wavedec(sequence_array.iloc[:,1], 'db1')))\n",
    "            z = np.concatenate((pywt.wavedec(sequence_array.iloc[:,2], 'db1')))\n",
    "            xyz = np.concatenate((x[:8],y[:8],z[:8]))\n",
    "\n",
    "            training_data.append([xyz,class_num])\n",
    "            \n",
    "import random\n",
    "random.shuffle(training_data)\n",
    "\n",
    "#Load features and labels\n",
    "X = []\n",
    "y = []\n",
    "for features, label in training_data:\n",
    "    X.append(features)\n",
    "    y.append(label)"
   ]
  },
  {
   "cell_type": "code",
   "execution_count": 6,
   "metadata": {},
   "outputs": [
    {
     "data": {
      "text/plain": [
       "3251"
      ]
     },
     "execution_count": 6,
     "metadata": {},
     "output_type": "execute_result"
    }
   ],
   "source": [
    "len(X)"
   ]
  },
  {
   "cell_type": "code",
   "execution_count": null,
   "metadata": {},
   "outputs": [],
   "source": []
  }
 ],
 "metadata": {
  "kernelspec": {
   "display_name": "Python 3",
   "language": "python",
   "name": "python3"
  },
  "language_info": {
   "codemirror_mode": {
    "name": "ipython",
    "version": 3
   },
   "file_extension": ".py",
   "mimetype": "text/x-python",
   "name": "python",
   "nbconvert_exporter": "python",
   "pygments_lexer": "ipython3",
   "version": "3.6.8"
  }
 },
 "nbformat": 4,
 "nbformat_minor": 2
}
